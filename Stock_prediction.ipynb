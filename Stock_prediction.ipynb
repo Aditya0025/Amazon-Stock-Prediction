{
 "cells": [
  {
   "cell_type": "code",
   "execution_count": 1,
   "metadata": {},
   "outputs": [
    {
     "name": "stderr",
     "output_type": "stream",
     "text": [
      "Using TensorFlow backend.\n",
      "C:\\Users\\Aditya\\Anaconda3\\lib\\site-packages\\sklearn\\cross_validation.py:41: DeprecationWarning: This module was deprecated in version 0.18 in favor of the model_selection module into which all the refactored classes and functions are moved. Also note that the interface of the new CV iterators are different from that of this module. This module will be removed in 0.20.\n",
      "  \"This module will be removed in 0.20.\", DeprecationWarning)\n"
     ]
    }
   ],
   "source": [
    "import numpy as np\n",
    "import pandas as pd\n",
    "from keras.layers.core import Activation,Dense,Dropout\n",
    "from keras.layers.recurrent import LSTM\n",
    "from keras.models import Sequential\n",
    "from sklearn.cross_validation import train_test_split\n",
    "from sklearn.preprocessing import MinMaxScaler\n",
    "from sklearn.metrics import mean_squared_error\n",
    "import matplotlib.pyplot as plt\n",
    "import math"
   ]
  },
  {
   "cell_type": "code",
   "execution_count": 2,
   "metadata": {},
   "outputs": [],
   "source": [
    "np.random.seed(7)"
   ]
  },
  {
   "cell_type": "code",
   "execution_count": 3,
   "metadata": {},
   "outputs": [
    {
     "data": {
      "text/html": [
       "<div>\n",
       "<style scoped>\n",
       "    .dataframe tbody tr th:only-of-type {\n",
       "        vertical-align: middle;\n",
       "    }\n",
       "\n",
       "    .dataframe tbody tr th {\n",
       "        vertical-align: top;\n",
       "    }\n",
       "\n",
       "    .dataframe thead th {\n",
       "        text-align: right;\n",
       "    }\n",
       "</style>\n",
       "<table border=\"1\" class=\"dataframe\">\n",
       "  <thead>\n",
       "    <tr style=\"text-align: right;\">\n",
       "      <th></th>\n",
       "      <th>date</th>\n",
       "      <th>close</th>\n",
       "      <th>volume</th>\n",
       "      <th>open</th>\n",
       "      <th>high</th>\n",
       "      <th>low</th>\n",
       "    </tr>\n",
       "  </thead>\n",
       "  <tbody>\n",
       "    <tr>\n",
       "      <th>0</th>\n",
       "      <td>16:00</td>\n",
       "      <td>1,908.03</td>\n",
       "      <td>7,050,192</td>\n",
       "      <td>1,953.95</td>\n",
       "      <td>1,956.82</td>\n",
       "      <td>1,887.41</td>\n",
       "    </tr>\n",
       "    <tr>\n",
       "      <th>1</th>\n",
       "      <td>2018/09/17</td>\n",
       "      <td>1908.0300</td>\n",
       "      <td>6981550.0000</td>\n",
       "      <td>1954.7300</td>\n",
       "      <td>1956.8200</td>\n",
       "      <td>1887.4100</td>\n",
       "    </tr>\n",
       "    <tr>\n",
       "      <th>2</th>\n",
       "      <td>2018/09/14</td>\n",
       "      <td>1970.1900</td>\n",
       "      <td>3587896.0000</td>\n",
       "      <td>1992.9300</td>\n",
       "      <td>1993.6480</td>\n",
       "      <td>1959.2200</td>\n",
       "    </tr>\n",
       "    <tr>\n",
       "      <th>3</th>\n",
       "      <td>2018/09/13</td>\n",
       "      <td>1989.8700</td>\n",
       "      <td>3605398.0000</td>\n",
       "      <td>2000.0000</td>\n",
       "      <td>2008.7600</td>\n",
       "      <td>1982.0277</td>\n",
       "    </tr>\n",
       "    <tr>\n",
       "      <th>4</th>\n",
       "      <td>2018/09/12</td>\n",
       "      <td>1990.0000</td>\n",
       "      <td>4407334.0000</td>\n",
       "      <td>1994.0000</td>\n",
       "      <td>2000.0000</td>\n",
       "      <td>1962.4400</td>\n",
       "    </tr>\n",
       "  </tbody>\n",
       "</table>\n",
       "</div>"
      ],
      "text/plain": [
       "         date      close        volume       open       high        low\n",
       "0       16:00   1,908.03     7,050,192   1,953.95   1,956.82   1,887.41\n",
       "1  2018/09/17  1908.0300  6981550.0000  1954.7300  1956.8200  1887.4100\n",
       "2  2018/09/14  1970.1900  3587896.0000  1992.9300  1993.6480  1959.2200\n",
       "3  2018/09/13  1989.8700  3605398.0000  2000.0000  2008.7600  1982.0277\n",
       "4  2018/09/12  1990.0000  4407334.0000  1994.0000  2000.0000  1962.4400"
      ]
     },
     "execution_count": 3,
     "metadata": {},
     "output_type": "execute_result"
    }
   ],
   "source": [
    "# Load dataset\n",
    "amazone_stock = pd.read_csv('C:/Users/Aditya/Desktop/Amazon Stock prediction/HistoricalQuotes.csv')\n",
    "amazone_stock.head()"
   ]
  },
  {
   "cell_type": "code",
   "execution_count": 4,
   "metadata": {},
   "outputs": [
    {
     "data": {
      "text/html": [
       "<div>\n",
       "<style scoped>\n",
       "    .dataframe tbody tr th:only-of-type {\n",
       "        vertical-align: middle;\n",
       "    }\n",
       "\n",
       "    .dataframe tbody tr th {\n",
       "        vertical-align: top;\n",
       "    }\n",
       "\n",
       "    .dataframe thead th {\n",
       "        text-align: right;\n",
       "    }\n",
       "</style>\n",
       "<table border=\"1\" class=\"dataframe\">\n",
       "  <thead>\n",
       "    <tr style=\"text-align: right;\">\n",
       "      <th></th>\n",
       "      <th>date</th>\n",
       "      <th>close</th>\n",
       "      <th>volume</th>\n",
       "      <th>open</th>\n",
       "      <th>high</th>\n",
       "      <th>low</th>\n",
       "    </tr>\n",
       "  </thead>\n",
       "  <tbody>\n",
       "    <tr>\n",
       "      <th>0</th>\n",
       "      <td>16:00</td>\n",
       "      <td>1,908.03</td>\n",
       "      <td>7,050,192</td>\n",
       "      <td>1,953.95</td>\n",
       "      <td>1,956.82</td>\n",
       "      <td>1,887.41</td>\n",
       "    </tr>\n",
       "  </tbody>\n",
       "</table>\n",
       "</div>"
      ],
      "text/plain": [
       "    date     close     volume      open      high       low\n",
       "0  16:00  1,908.03  7,050,192  1,953.95  1,956.82  1,887.41"
      ]
     },
     "execution_count": 4,
     "metadata": {},
     "output_type": "execute_result"
    }
   ],
   "source": [
    "amazone_stock.dtypes\n",
    "amazone_stock.iloc[:1,:]\n",
    "# "
   ]
  },
  {
   "cell_type": "code",
   "execution_count": 5,
   "metadata": {},
   "outputs": [],
   "source": [
    "# df.drop(df.index[:2], inplace=True)\n",
    "amazone_stock.drop(amazone_stock.index[:1],inplace=True)"
   ]
  },
  {
   "cell_type": "code",
   "execution_count": 6,
   "metadata": {},
   "outputs": [
    {
     "data": {
      "text/html": [
       "<div>\n",
       "<style scoped>\n",
       "    .dataframe tbody tr th:only-of-type {\n",
       "        vertical-align: middle;\n",
       "    }\n",
       "\n",
       "    .dataframe tbody tr th {\n",
       "        vertical-align: top;\n",
       "    }\n",
       "\n",
       "    .dataframe thead th {\n",
       "        text-align: right;\n",
       "    }\n",
       "</style>\n",
       "<table border=\"1\" class=\"dataframe\">\n",
       "  <thead>\n",
       "    <tr style=\"text-align: right;\">\n",
       "      <th></th>\n",
       "      <th>date</th>\n",
       "      <th>close</th>\n",
       "      <th>volume</th>\n",
       "      <th>open</th>\n",
       "      <th>high</th>\n",
       "      <th>low</th>\n",
       "    </tr>\n",
       "  </thead>\n",
       "  <tbody>\n",
       "    <tr>\n",
       "      <th>1</th>\n",
       "      <td>2018/09/17</td>\n",
       "      <td>1908.0300</td>\n",
       "      <td>6981550.0000</td>\n",
       "      <td>1954.7300</td>\n",
       "      <td>1956.8200</td>\n",
       "      <td>1887.4100</td>\n",
       "    </tr>\n",
       "    <tr>\n",
       "      <th>2</th>\n",
       "      <td>2018/09/14</td>\n",
       "      <td>1970.1900</td>\n",
       "      <td>3587896.0000</td>\n",
       "      <td>1992.9300</td>\n",
       "      <td>1993.6480</td>\n",
       "      <td>1959.2200</td>\n",
       "    </tr>\n",
       "    <tr>\n",
       "      <th>3</th>\n",
       "      <td>2018/09/13</td>\n",
       "      <td>1989.8700</td>\n",
       "      <td>3605398.0000</td>\n",
       "      <td>2000.0000</td>\n",
       "      <td>2008.7600</td>\n",
       "      <td>1982.0277</td>\n",
       "    </tr>\n",
       "    <tr>\n",
       "      <th>4</th>\n",
       "      <td>2018/09/12</td>\n",
       "      <td>1990.0000</td>\n",
       "      <td>4407334.0000</td>\n",
       "      <td>1994.0000</td>\n",
       "      <td>2000.0000</td>\n",
       "      <td>1962.4400</td>\n",
       "    </tr>\n",
       "    <tr>\n",
       "      <th>5</th>\n",
       "      <td>2018/09/11</td>\n",
       "      <td>1987.1500</td>\n",
       "      <td>5016780.0000</td>\n",
       "      <td>1928.2700</td>\n",
       "      <td>1988.8800</td>\n",
       "      <td>1917.0000</td>\n",
       "    </tr>\n",
       "  </tbody>\n",
       "</table>\n",
       "</div>"
      ],
      "text/plain": [
       "         date      close        volume       open       high        low\n",
       "1  2018/09/17  1908.0300  6981550.0000  1954.7300  1956.8200  1887.4100\n",
       "2  2018/09/14  1970.1900  3587896.0000  1992.9300  1993.6480  1959.2200\n",
       "3  2018/09/13  1989.8700  3605398.0000  2000.0000  2008.7600  1982.0277\n",
       "4  2018/09/12  1990.0000  4407334.0000  1994.0000  2000.0000  1962.4400\n",
       "5  2018/09/11  1987.1500  5016780.0000  1928.2700  1988.8800  1917.0000"
      ]
     },
     "execution_count": 6,
     "metadata": {},
     "output_type": "execute_result"
    }
   ],
   "source": [
    "amazone_stock.head()"
   ]
  },
  {
   "cell_type": "code",
   "execution_count": null,
   "metadata": {},
   "outputs": [],
   "source": [
    "# amazone_stock['date'] =amazone_stock['date'].astype('object')"
   ]
  },
  {
   "cell_type": "code",
   "execution_count": 7,
   "metadata": {},
   "outputs": [],
   "source": [
    "amazone_stock['date'] = pd.to_datetime(amazone_stock['date'])\n"
   ]
  },
  {
   "cell_type": "code",
   "execution_count": 8,
   "metadata": {},
   "outputs": [],
   "source": [
    "amazone_stock['close'] = pd.to_numeric(amazone_stock['close'],downcast='float')"
   ]
  },
  {
   "cell_type": "code",
   "execution_count": 9,
   "metadata": {},
   "outputs": [
    {
     "data": {
      "text/html": [
       "<div>\n",
       "<style scoped>\n",
       "    .dataframe tbody tr th:only-of-type {\n",
       "        vertical-align: middle;\n",
       "    }\n",
       "\n",
       "    .dataframe tbody tr th {\n",
       "        vertical-align: top;\n",
       "    }\n",
       "\n",
       "    .dataframe thead th {\n",
       "        text-align: right;\n",
       "    }\n",
       "</style>\n",
       "<table border=\"1\" class=\"dataframe\">\n",
       "  <thead>\n",
       "    <tr style=\"text-align: right;\">\n",
       "      <th></th>\n",
       "      <th>date</th>\n",
       "      <th>close</th>\n",
       "      <th>volume</th>\n",
       "      <th>open</th>\n",
       "      <th>high</th>\n",
       "      <th>low</th>\n",
       "    </tr>\n",
       "  </thead>\n",
       "  <tbody>\n",
       "    <tr>\n",
       "      <th>1</th>\n",
       "      <td>2018-09-17</td>\n",
       "      <td>1908.030029</td>\n",
       "      <td>6981550.0000</td>\n",
       "      <td>1954.7300</td>\n",
       "      <td>1956.8200</td>\n",
       "      <td>1887.4100</td>\n",
       "    </tr>\n",
       "    <tr>\n",
       "      <th>2</th>\n",
       "      <td>2018-09-14</td>\n",
       "      <td>1970.189941</td>\n",
       "      <td>3587896.0000</td>\n",
       "      <td>1992.9300</td>\n",
       "      <td>1993.6480</td>\n",
       "      <td>1959.2200</td>\n",
       "    </tr>\n",
       "    <tr>\n",
       "      <th>3</th>\n",
       "      <td>2018-09-13</td>\n",
       "      <td>1989.869995</td>\n",
       "      <td>3605398.0000</td>\n",
       "      <td>2000.0000</td>\n",
       "      <td>2008.7600</td>\n",
       "      <td>1982.0277</td>\n",
       "    </tr>\n",
       "    <tr>\n",
       "      <th>4</th>\n",
       "      <td>2018-09-12</td>\n",
       "      <td>1990.000000</td>\n",
       "      <td>4407334.0000</td>\n",
       "      <td>1994.0000</td>\n",
       "      <td>2000.0000</td>\n",
       "      <td>1962.4400</td>\n",
       "    </tr>\n",
       "    <tr>\n",
       "      <th>5</th>\n",
       "      <td>2018-09-11</td>\n",
       "      <td>1987.150024</td>\n",
       "      <td>5016780.0000</td>\n",
       "      <td>1928.2700</td>\n",
       "      <td>1988.8800</td>\n",
       "      <td>1917.0000</td>\n",
       "    </tr>\n",
       "  </tbody>\n",
       "</table>\n",
       "</div>"
      ],
      "text/plain": [
       "        date        close        volume       open       high        low\n",
       "1 2018-09-17  1908.030029  6981550.0000  1954.7300  1956.8200  1887.4100\n",
       "2 2018-09-14  1970.189941  3587896.0000  1992.9300  1993.6480  1959.2200\n",
       "3 2018-09-13  1989.869995  3605398.0000  2000.0000  2008.7600  1982.0277\n",
       "4 2018-09-12  1990.000000  4407334.0000  1994.0000  2000.0000  1962.4400\n",
       "5 2018-09-11  1987.150024  5016780.0000  1928.2700  1988.8800  1917.0000"
      ]
     },
     "execution_count": 9,
     "metadata": {},
     "output_type": "execute_result"
    }
   ],
   "source": [
    "amazone_stock.head()"
   ]
  },
  {
   "cell_type": "code",
   "execution_count": 13,
   "metadata": {},
   "outputs": [
    {
     "ename": "KeyError",
     "evalue": "'date'",
     "output_type": "error",
     "traceback": [
      "\u001b[1;31m---------------------------------------------------------------------------\u001b[0m",
      "\u001b[1;31mKeyError\u001b[0m                                  Traceback (most recent call last)",
      "\u001b[1;32m~\\Anaconda3\\lib\\site-packages\\pandas\\core\\indexes\\base.py\u001b[0m in \u001b[0;36mget_loc\u001b[1;34m(self, key, method, tolerance)\u001b[0m\n\u001b[0;32m   3062\u001b[0m             \u001b[1;32mtry\u001b[0m\u001b[1;33m:\u001b[0m\u001b[1;33m\u001b[0m\u001b[0m\n\u001b[1;32m-> 3063\u001b[1;33m                 \u001b[1;32mreturn\u001b[0m \u001b[0mself\u001b[0m\u001b[1;33m.\u001b[0m\u001b[0m_engine\u001b[0m\u001b[1;33m.\u001b[0m\u001b[0mget_loc\u001b[0m\u001b[1;33m(\u001b[0m\u001b[0mkey\u001b[0m\u001b[1;33m)\u001b[0m\u001b[1;33m\u001b[0m\u001b[0m\n\u001b[0m\u001b[0;32m   3064\u001b[0m             \u001b[1;32mexcept\u001b[0m \u001b[0mKeyError\u001b[0m\u001b[1;33m:\u001b[0m\u001b[1;33m\u001b[0m\u001b[0m\n",
      "\u001b[1;32mpandas\\_libs\\index.pyx\u001b[0m in \u001b[0;36mpandas._libs.index.IndexEngine.get_loc\u001b[1;34m()\u001b[0m\n",
      "\u001b[1;32mpandas\\_libs\\index.pyx\u001b[0m in \u001b[0;36mpandas._libs.index.IndexEngine.get_loc\u001b[1;34m()\u001b[0m\n",
      "\u001b[1;32mpandas\\_libs\\hashtable_class_helper.pxi\u001b[0m in \u001b[0;36mpandas._libs.hashtable.PyObjectHashTable.get_item\u001b[1;34m()\u001b[0m\n",
      "\u001b[1;32mpandas\\_libs\\hashtable_class_helper.pxi\u001b[0m in \u001b[0;36mpandas._libs.hashtable.PyObjectHashTable.get_item\u001b[1;34m()\u001b[0m\n",
      "\u001b[1;31mKeyError\u001b[0m: 'date'",
      "\nDuring handling of the above exception, another exception occurred:\n",
      "\u001b[1;31mKeyError\u001b[0m                                  Traceback (most recent call last)",
      "\u001b[1;32m<ipython-input-13-f624046e4a00>\u001b[0m in \u001b[0;36m<module>\u001b[1;34m()\u001b[0m\n\u001b[1;32m----> 1\u001b[1;33m \u001b[0mamazone_stock\u001b[0m\u001b[1;33m.\u001b[0m\u001b[0mset_index\u001b[0m\u001b[1;33m(\u001b[0m\u001b[1;34m'date'\u001b[0m\u001b[1;33m,\u001b[0m\u001b[0minplace\u001b[0m\u001b[1;33m=\u001b[0m\u001b[1;32mTrue\u001b[0m\u001b[1;33m)\u001b[0m\u001b[1;33m\u001b[0m\u001b[0m\n\u001b[0m",
      "\u001b[1;32m~\\Anaconda3\\lib\\site-packages\\pandas\\core\\frame.py\u001b[0m in \u001b[0;36mset_index\u001b[1;34m(self, keys, drop, append, inplace, verify_integrity)\u001b[0m\n\u001b[0;32m   3904\u001b[0m                 \u001b[0mnames\u001b[0m\u001b[1;33m.\u001b[0m\u001b[0mappend\u001b[0m\u001b[1;33m(\u001b[0m\u001b[1;32mNone\u001b[0m\u001b[1;33m)\u001b[0m\u001b[1;33m\u001b[0m\u001b[0m\n\u001b[0;32m   3905\u001b[0m             \u001b[1;32melse\u001b[0m\u001b[1;33m:\u001b[0m\u001b[1;33m\u001b[0m\u001b[0m\n\u001b[1;32m-> 3906\u001b[1;33m                 \u001b[0mlevel\u001b[0m \u001b[1;33m=\u001b[0m \u001b[0mframe\u001b[0m\u001b[1;33m[\u001b[0m\u001b[0mcol\u001b[0m\u001b[1;33m]\u001b[0m\u001b[1;33m.\u001b[0m\u001b[0m_values\u001b[0m\u001b[1;33m\u001b[0m\u001b[0m\n\u001b[0m\u001b[0;32m   3907\u001b[0m                 \u001b[0mnames\u001b[0m\u001b[1;33m.\u001b[0m\u001b[0mappend\u001b[0m\u001b[1;33m(\u001b[0m\u001b[0mcol\u001b[0m\u001b[1;33m)\u001b[0m\u001b[1;33m\u001b[0m\u001b[0m\n\u001b[0;32m   3908\u001b[0m                 \u001b[1;32mif\u001b[0m \u001b[0mdrop\u001b[0m\u001b[1;33m:\u001b[0m\u001b[1;33m\u001b[0m\u001b[0m\n",
      "\u001b[1;32m~\\Anaconda3\\lib\\site-packages\\pandas\\core\\frame.py\u001b[0m in \u001b[0;36m__getitem__\u001b[1;34m(self, key)\u001b[0m\n\u001b[0;32m   2683\u001b[0m             \u001b[1;32mreturn\u001b[0m \u001b[0mself\u001b[0m\u001b[1;33m.\u001b[0m\u001b[0m_getitem_multilevel\u001b[0m\u001b[1;33m(\u001b[0m\u001b[0mkey\u001b[0m\u001b[1;33m)\u001b[0m\u001b[1;33m\u001b[0m\u001b[0m\n\u001b[0;32m   2684\u001b[0m         \u001b[1;32melse\u001b[0m\u001b[1;33m:\u001b[0m\u001b[1;33m\u001b[0m\u001b[0m\n\u001b[1;32m-> 2685\u001b[1;33m             \u001b[1;32mreturn\u001b[0m \u001b[0mself\u001b[0m\u001b[1;33m.\u001b[0m\u001b[0m_getitem_column\u001b[0m\u001b[1;33m(\u001b[0m\u001b[0mkey\u001b[0m\u001b[1;33m)\u001b[0m\u001b[1;33m\u001b[0m\u001b[0m\n\u001b[0m\u001b[0;32m   2686\u001b[0m \u001b[1;33m\u001b[0m\u001b[0m\n\u001b[0;32m   2687\u001b[0m     \u001b[1;32mdef\u001b[0m \u001b[0m_getitem_column\u001b[0m\u001b[1;33m(\u001b[0m\u001b[0mself\u001b[0m\u001b[1;33m,\u001b[0m \u001b[0mkey\u001b[0m\u001b[1;33m)\u001b[0m\u001b[1;33m:\u001b[0m\u001b[1;33m\u001b[0m\u001b[0m\n",
      "\u001b[1;32m~\\Anaconda3\\lib\\site-packages\\pandas\\core\\frame.py\u001b[0m in \u001b[0;36m_getitem_column\u001b[1;34m(self, key)\u001b[0m\n\u001b[0;32m   2690\u001b[0m         \u001b[1;31m# get column\u001b[0m\u001b[1;33m\u001b[0m\u001b[1;33m\u001b[0m\u001b[0m\n\u001b[0;32m   2691\u001b[0m         \u001b[1;32mif\u001b[0m \u001b[0mself\u001b[0m\u001b[1;33m.\u001b[0m\u001b[0mcolumns\u001b[0m\u001b[1;33m.\u001b[0m\u001b[0mis_unique\u001b[0m\u001b[1;33m:\u001b[0m\u001b[1;33m\u001b[0m\u001b[0m\n\u001b[1;32m-> 2692\u001b[1;33m             \u001b[1;32mreturn\u001b[0m \u001b[0mself\u001b[0m\u001b[1;33m.\u001b[0m\u001b[0m_get_item_cache\u001b[0m\u001b[1;33m(\u001b[0m\u001b[0mkey\u001b[0m\u001b[1;33m)\u001b[0m\u001b[1;33m\u001b[0m\u001b[0m\n\u001b[0m\u001b[0;32m   2693\u001b[0m \u001b[1;33m\u001b[0m\u001b[0m\n\u001b[0;32m   2694\u001b[0m         \u001b[1;31m# duplicate columns & possible reduce dimensionality\u001b[0m\u001b[1;33m\u001b[0m\u001b[1;33m\u001b[0m\u001b[0m\n",
      "\u001b[1;32m~\\Anaconda3\\lib\\site-packages\\pandas\\core\\generic.py\u001b[0m in \u001b[0;36m_get_item_cache\u001b[1;34m(self, item)\u001b[0m\n\u001b[0;32m   2484\u001b[0m         \u001b[0mres\u001b[0m \u001b[1;33m=\u001b[0m \u001b[0mcache\u001b[0m\u001b[1;33m.\u001b[0m\u001b[0mget\u001b[0m\u001b[1;33m(\u001b[0m\u001b[0mitem\u001b[0m\u001b[1;33m)\u001b[0m\u001b[1;33m\u001b[0m\u001b[0m\n\u001b[0;32m   2485\u001b[0m         \u001b[1;32mif\u001b[0m \u001b[0mres\u001b[0m \u001b[1;32mis\u001b[0m \u001b[1;32mNone\u001b[0m\u001b[1;33m:\u001b[0m\u001b[1;33m\u001b[0m\u001b[0m\n\u001b[1;32m-> 2486\u001b[1;33m             \u001b[0mvalues\u001b[0m \u001b[1;33m=\u001b[0m \u001b[0mself\u001b[0m\u001b[1;33m.\u001b[0m\u001b[0m_data\u001b[0m\u001b[1;33m.\u001b[0m\u001b[0mget\u001b[0m\u001b[1;33m(\u001b[0m\u001b[0mitem\u001b[0m\u001b[1;33m)\u001b[0m\u001b[1;33m\u001b[0m\u001b[0m\n\u001b[0m\u001b[0;32m   2487\u001b[0m             \u001b[0mres\u001b[0m \u001b[1;33m=\u001b[0m \u001b[0mself\u001b[0m\u001b[1;33m.\u001b[0m\u001b[0m_box_item_values\u001b[0m\u001b[1;33m(\u001b[0m\u001b[0mitem\u001b[0m\u001b[1;33m,\u001b[0m \u001b[0mvalues\u001b[0m\u001b[1;33m)\u001b[0m\u001b[1;33m\u001b[0m\u001b[0m\n\u001b[0;32m   2488\u001b[0m             \u001b[0mcache\u001b[0m\u001b[1;33m[\u001b[0m\u001b[0mitem\u001b[0m\u001b[1;33m]\u001b[0m \u001b[1;33m=\u001b[0m \u001b[0mres\u001b[0m\u001b[1;33m\u001b[0m\u001b[0m\n",
      "\u001b[1;32m~\\Anaconda3\\lib\\site-packages\\pandas\\core\\internals.py\u001b[0m in \u001b[0;36mget\u001b[1;34m(self, item, fastpath)\u001b[0m\n\u001b[0;32m   4113\u001b[0m \u001b[1;33m\u001b[0m\u001b[0m\n\u001b[0;32m   4114\u001b[0m             \u001b[1;32mif\u001b[0m \u001b[1;32mnot\u001b[0m \u001b[0misna\u001b[0m\u001b[1;33m(\u001b[0m\u001b[0mitem\u001b[0m\u001b[1;33m)\u001b[0m\u001b[1;33m:\u001b[0m\u001b[1;33m\u001b[0m\u001b[0m\n\u001b[1;32m-> 4115\u001b[1;33m                 \u001b[0mloc\u001b[0m \u001b[1;33m=\u001b[0m \u001b[0mself\u001b[0m\u001b[1;33m.\u001b[0m\u001b[0mitems\u001b[0m\u001b[1;33m.\u001b[0m\u001b[0mget_loc\u001b[0m\u001b[1;33m(\u001b[0m\u001b[0mitem\u001b[0m\u001b[1;33m)\u001b[0m\u001b[1;33m\u001b[0m\u001b[0m\n\u001b[0m\u001b[0;32m   4116\u001b[0m             \u001b[1;32melse\u001b[0m\u001b[1;33m:\u001b[0m\u001b[1;33m\u001b[0m\u001b[0m\n\u001b[0;32m   4117\u001b[0m                 \u001b[0mindexer\u001b[0m \u001b[1;33m=\u001b[0m \u001b[0mnp\u001b[0m\u001b[1;33m.\u001b[0m\u001b[0marange\u001b[0m\u001b[1;33m(\u001b[0m\u001b[0mlen\u001b[0m\u001b[1;33m(\u001b[0m\u001b[0mself\u001b[0m\u001b[1;33m.\u001b[0m\u001b[0mitems\u001b[0m\u001b[1;33m)\u001b[0m\u001b[1;33m)\u001b[0m\u001b[1;33m[\u001b[0m\u001b[0misna\u001b[0m\u001b[1;33m(\u001b[0m\u001b[0mself\u001b[0m\u001b[1;33m.\u001b[0m\u001b[0mitems\u001b[0m\u001b[1;33m)\u001b[0m\u001b[1;33m]\u001b[0m\u001b[1;33m\u001b[0m\u001b[0m\n",
      "\u001b[1;32m~\\Anaconda3\\lib\\site-packages\\pandas\\core\\indexes\\base.py\u001b[0m in \u001b[0;36mget_loc\u001b[1;34m(self, key, method, tolerance)\u001b[0m\n\u001b[0;32m   3063\u001b[0m                 \u001b[1;32mreturn\u001b[0m \u001b[0mself\u001b[0m\u001b[1;33m.\u001b[0m\u001b[0m_engine\u001b[0m\u001b[1;33m.\u001b[0m\u001b[0mget_loc\u001b[0m\u001b[1;33m(\u001b[0m\u001b[0mkey\u001b[0m\u001b[1;33m)\u001b[0m\u001b[1;33m\u001b[0m\u001b[0m\n\u001b[0;32m   3064\u001b[0m             \u001b[1;32mexcept\u001b[0m \u001b[0mKeyError\u001b[0m\u001b[1;33m:\u001b[0m\u001b[1;33m\u001b[0m\u001b[0m\n\u001b[1;32m-> 3065\u001b[1;33m                 \u001b[1;32mreturn\u001b[0m \u001b[0mself\u001b[0m\u001b[1;33m.\u001b[0m\u001b[0m_engine\u001b[0m\u001b[1;33m.\u001b[0m\u001b[0mget_loc\u001b[0m\u001b[1;33m(\u001b[0m\u001b[0mself\u001b[0m\u001b[1;33m.\u001b[0m\u001b[0m_maybe_cast_indexer\u001b[0m\u001b[1;33m(\u001b[0m\u001b[0mkey\u001b[0m\u001b[1;33m)\u001b[0m\u001b[1;33m)\u001b[0m\u001b[1;33m\u001b[0m\u001b[0m\n\u001b[0m\u001b[0;32m   3066\u001b[0m \u001b[1;33m\u001b[0m\u001b[0m\n\u001b[0;32m   3067\u001b[0m         \u001b[0mindexer\u001b[0m \u001b[1;33m=\u001b[0m \u001b[0mself\u001b[0m\u001b[1;33m.\u001b[0m\u001b[0mget_indexer\u001b[0m\u001b[1;33m(\u001b[0m\u001b[1;33m[\u001b[0m\u001b[0mkey\u001b[0m\u001b[1;33m]\u001b[0m\u001b[1;33m,\u001b[0m \u001b[0mmethod\u001b[0m\u001b[1;33m=\u001b[0m\u001b[0mmethod\u001b[0m\u001b[1;33m,\u001b[0m \u001b[0mtolerance\u001b[0m\u001b[1;33m=\u001b[0m\u001b[0mtolerance\u001b[0m\u001b[1;33m)\u001b[0m\u001b[1;33m\u001b[0m\u001b[0m\n",
      "\u001b[1;32mpandas\\_libs\\index.pyx\u001b[0m in \u001b[0;36mpandas._libs.index.IndexEngine.get_loc\u001b[1;34m()\u001b[0m\n",
      "\u001b[1;32mpandas\\_libs\\index.pyx\u001b[0m in \u001b[0;36mpandas._libs.index.IndexEngine.get_loc\u001b[1;34m()\u001b[0m\n",
      "\u001b[1;32mpandas\\_libs\\hashtable_class_helper.pxi\u001b[0m in \u001b[0;36mpandas._libs.hashtable.PyObjectHashTable.get_item\u001b[1;34m()\u001b[0m\n",
      "\u001b[1;32mpandas\\_libs\\hashtable_class_helper.pxi\u001b[0m in \u001b[0;36mpandas._libs.hashtable.PyObjectHashTable.get_item\u001b[1;34m()\u001b[0m\n",
      "\u001b[1;31mKeyError\u001b[0m: 'date'"
     ]
    }
   ],
   "source": [
    "amazone_stock.set_index('date',inplace=True)\n",
    "\n"
   ]
  },
  {
   "cell_type": "code",
   "execution_count": 15,
   "metadata": {},
   "outputs": [
    {
     "data": {
      "text/html": [
       "<div>\n",
       "<style scoped>\n",
       "    .dataframe tbody tr th:only-of-type {\n",
       "        vertical-align: middle;\n",
       "    }\n",
       "\n",
       "    .dataframe tbody tr th {\n",
       "        vertical-align: top;\n",
       "    }\n",
       "\n",
       "    .dataframe thead th {\n",
       "        text-align: right;\n",
       "    }\n",
       "</style>\n",
       "<table border=\"1\" class=\"dataframe\">\n",
       "  <thead>\n",
       "    <tr style=\"text-align: right;\">\n",
       "      <th></th>\n",
       "      <th>close</th>\n",
       "      <th>volume</th>\n",
       "      <th>open</th>\n",
       "      <th>high</th>\n",
       "      <th>low</th>\n",
       "    </tr>\n",
       "    <tr>\n",
       "      <th>date</th>\n",
       "      <th></th>\n",
       "      <th></th>\n",
       "      <th></th>\n",
       "      <th></th>\n",
       "      <th></th>\n",
       "    </tr>\n",
       "  </thead>\n",
       "  <tbody>\n",
       "    <tr>\n",
       "      <th>2018-09-17</th>\n",
       "      <td>1908.030029</td>\n",
       "      <td>6981550.0000</td>\n",
       "      <td>1954.7300</td>\n",
       "      <td>1956.8200</td>\n",
       "      <td>1887.4100</td>\n",
       "    </tr>\n",
       "    <tr>\n",
       "      <th>2018-09-14</th>\n",
       "      <td>1970.189941</td>\n",
       "      <td>3587896.0000</td>\n",
       "      <td>1992.9300</td>\n",
       "      <td>1993.6480</td>\n",
       "      <td>1959.2200</td>\n",
       "    </tr>\n",
       "    <tr>\n",
       "      <th>2018-09-13</th>\n",
       "      <td>1989.869995</td>\n",
       "      <td>3605398.0000</td>\n",
       "      <td>2000.0000</td>\n",
       "      <td>2008.7600</td>\n",
       "      <td>1982.0277</td>\n",
       "    </tr>\n",
       "    <tr>\n",
       "      <th>2018-09-12</th>\n",
       "      <td>1990.000000</td>\n",
       "      <td>4407334.0000</td>\n",
       "      <td>1994.0000</td>\n",
       "      <td>2000.0000</td>\n",
       "      <td>1962.4400</td>\n",
       "    </tr>\n",
       "    <tr>\n",
       "      <th>2018-09-11</th>\n",
       "      <td>1987.150024</td>\n",
       "      <td>5016780.0000</td>\n",
       "      <td>1928.2700</td>\n",
       "      <td>1988.8800</td>\n",
       "      <td>1917.0000</td>\n",
       "    </tr>\n",
       "  </tbody>\n",
       "</table>\n",
       "</div>"
      ],
      "text/plain": [
       "                  close        volume       open       high        low\n",
       "date                                                                  \n",
       "2018-09-17  1908.030029  6981550.0000  1954.7300  1956.8200  1887.4100\n",
       "2018-09-14  1970.189941  3587896.0000  1992.9300  1993.6480  1959.2200\n",
       "2018-09-13  1989.869995  3605398.0000  2000.0000  2008.7600  1982.0277\n",
       "2018-09-12  1990.000000  4407334.0000  1994.0000  2000.0000  1962.4400\n",
       "2018-09-11  1987.150024  5016780.0000  1928.2700  1988.8800  1917.0000"
      ]
     },
     "execution_count": 15,
     "metadata": {},
     "output_type": "execute_result"
    }
   ],
   "source": [
    "amazone_stock.head()"
   ]
  },
  {
   "cell_type": "code",
   "execution_count": 16,
   "metadata": {},
   "outputs": [],
   "source": [
    "amazone_stock.sort_index(inplace=True)"
   ]
  },
  {
   "cell_type": "code",
   "execution_count": 59,
   "metadata": {},
   "outputs": [
    {
     "data": {
      "text/html": [
       "<div>\n",
       "<style scoped>\n",
       "    .dataframe tbody tr th:only-of-type {\n",
       "        vertical-align: middle;\n",
       "    }\n",
       "\n",
       "    .dataframe tbody tr th {\n",
       "        vertical-align: top;\n",
       "    }\n",
       "\n",
       "    .dataframe thead th {\n",
       "        text-align: right;\n",
       "    }\n",
       "</style>\n",
       "<table border=\"1\" class=\"dataframe\">\n",
       "  <thead>\n",
       "    <tr style=\"text-align: right;\">\n",
       "      <th></th>\n",
       "      <th>close</th>\n",
       "      <th>volume</th>\n",
       "      <th>open</th>\n",
       "      <th>high</th>\n",
       "      <th>low</th>\n",
       "    </tr>\n",
       "    <tr>\n",
       "      <th>date</th>\n",
       "      <th></th>\n",
       "      <th></th>\n",
       "      <th></th>\n",
       "      <th></th>\n",
       "      <th></th>\n",
       "    </tr>\n",
       "  </thead>\n",
       "  <tbody>\n",
       "    <tr>\n",
       "      <th>2008-09-17</th>\n",
       "      <td>71.540001</td>\n",
       "      <td>13161430.0000</td>\n",
       "      <td>77.6800</td>\n",
       "      <td>78.2400</td>\n",
       "      <td>71.2400</td>\n",
       "    </tr>\n",
       "    <tr>\n",
       "      <th>2008-09-18</th>\n",
       "      <td>76.500000</td>\n",
       "      <td>12396680.0000</td>\n",
       "      <td>73.0800</td>\n",
       "      <td>77.5000</td>\n",
       "      <td>70.0800</td>\n",
       "    </tr>\n",
       "    <tr>\n",
       "      <th>2008-09-19</th>\n",
       "      <td>81.000000</td>\n",
       "      <td>14771940.0000</td>\n",
       "      <td>80.1200</td>\n",
       "      <td>86.7700</td>\n",
       "      <td>76.5000</td>\n",
       "    </tr>\n",
       "    <tr>\n",
       "      <th>2008-09-22</th>\n",
       "      <td>74.930000</td>\n",
       "      <td>7035595.0000</td>\n",
       "      <td>81.1300</td>\n",
       "      <td>81.6300</td>\n",
       "      <td>74.3200</td>\n",
       "    </tr>\n",
       "    <tr>\n",
       "      <th>2008-09-23</th>\n",
       "      <td>71.760002</td>\n",
       "      <td>8592269.0000</td>\n",
       "      <td>75.7900</td>\n",
       "      <td>76.2900</td>\n",
       "      <td>70.7700</td>\n",
       "    </tr>\n",
       "  </tbody>\n",
       "</table>\n",
       "</div>"
      ],
      "text/plain": [
       "                close         volume     open     high      low\n",
       "date                                                           \n",
       "2008-09-17  71.540001  13161430.0000  77.6800  78.2400  71.2400\n",
       "2008-09-18  76.500000  12396680.0000  73.0800  77.5000  70.0800\n",
       "2008-09-19  81.000000  14771940.0000  80.1200  86.7700  76.5000\n",
       "2008-09-22  74.930000   7035595.0000  81.1300  81.6300  74.3200\n",
       "2008-09-23  71.760002   8592269.0000  75.7900  76.2900  70.7700"
      ]
     },
     "execution_count": 59,
     "metadata": {},
     "output_type": "execute_result"
    }
   ],
   "source": [
    "amazone_stock.head()"
   ]
  },
  {
   "cell_type": "code",
   "execution_count": 18,
   "metadata": {},
   "outputs": [],
   "source": [
    "# amazone_stock['close']"
   ]
  },
  {
   "cell_type": "code",
   "execution_count": 19,
   "metadata": {},
   "outputs": [],
   "source": [
    "amazone_stock_closing = amazone_stock['close']\n",
    "amazone_stock_closing= amazone_stock_closing.values.reshape(len(amazone_stock_closing),1)"
   ]
  },
  {
   "cell_type": "code",
   "execution_count": 21,
   "metadata": {},
   "outputs": [
    {
     "data": {
      "image/png": "[encoded data removed]",
      "text/plain": [
       "<Figure size 432x288 with 1 Axes>"
      ]
     },
     "metadata": {},
     "output_type": "display_data"
    }
   ],
   "source": [
    "# amazone_stock_closing\n",
    "plt.plot(amazone_stock_closing)\n",
    "plt.show()"
   ]
  },
  {
   "cell_type": "code",
   "execution_count": 22,
   "metadata": {},
   "outputs": [],
   "source": [
    "# normalize data\n",
    "scaler = MinMaxScaler(feature_range=(0,1))"
   ]
  },
  {
   "cell_type": "code",
   "execution_count": 23,
   "metadata": {},
   "outputs": [],
   "source": [
    "amazone_stock_closing = scaler.fit_transform(amazone_stock_closing)"
   ]
  },
  {
   "cell_type": "code",
   "execution_count": 24,
   "metadata": {},
   "outputs": [
    {
     "data": {
      "text/plain": [
       "array([[0.0182142 ],\n",
       "       [0.02068866],\n",
       "       [0.02293363],\n",
       "       ...,\n",
       "       [0.97523546],\n",
       "       [0.96541744],\n",
       "       [0.93440694]], dtype=float32)"
      ]
     },
     "execution_count": 24,
     "metadata": {},
     "output_type": "execute_result"
    }
   ],
   "source": [
    "amazone_stock_closing"
   ]
  },
  {
   "cell_type": "code",
   "execution_count": 26,
   "metadata": {},
   "outputs": [],
   "source": [
    "# split data train and test\n",
    "train_size = int(len(amazone_stock_closing)*0.7)\n",
    "test_size = len(amazone_stock_closing) - train_size"
   ]
  },
  {
   "cell_type": "code",
   "execution_count": 27,
   "metadata": {},
   "outputs": [],
   "source": [
    "amazone_stock_train, amazone_stock_test = amazone_stock_closing[0:train_size,:],amazone_stock_closing[train_size:len(amazone_stock_closing),:]"
   ]
  },
  {
   "cell_type": "code",
   "execution_count": 30,
   "metadata": {},
   "outputs": [],
   "source": [
    "pd.options.display.max_columns =None\n"
   ]
  },
  {
   "cell_type": "code",
   "execution_count": 31,
   "metadata": {},
   "outputs": [
    {
     "data": {
      "text/plain": [
       "array([[0.0182142 ],\n",
       "       [0.02068866],\n",
       "       [0.02293363],\n",
       "       ...,\n",
       "       [0.24263151],\n",
       "       [0.2431254 ],\n",
       "       [0.2456298 ]], dtype=float32)"
      ]
     },
     "execution_count": 31,
     "metadata": {},
     "output_type": "execute_result"
    }
   ],
   "source": [
    "amazone_stock_train"
   ]
  },
  {
   "cell_type": "code",
   "execution_count": 33,
   "metadata": {},
   "outputs": [
    {
     "name": "stdout",
     "output_type": "stream",
     "text": [
      "1762\n"
     ]
    },
    {
     "data": {
      "text/plain": [
       "756"
      ]
     },
     "execution_count": 33,
     "metadata": {},
     "output_type": "execute_result"
    }
   ],
   "source": [
    "print(len(amazone_stock_train))\n",
    "\n",
    "len(amazone_stock_test)"
   ]
  },
  {
   "cell_type": "code",
   "execution_count": 66,
   "metadata": {},
   "outputs": [],
   "source": [
    "# now convert data into into timeseries  looking back over a periodof days .....e.g\n",
    "# use last 7 dats to predict price\n",
    "# basically divide data into chunks of seven\n",
    "def create_ts(ds,series):\n",
    "    X,Y = [], []\n",
    "    for i in range(len(ds)-series - 1):\n",
    "        item = ds[i:(i+series),0]\n",
    "        X.append(item)\n",
    "        Y.append(ds[i+series,0])\n",
    "    return np.array(X), np.array(Y)\n",
    "\n",
    "series= 7\n",
    "\n",
    "trainX, trainY = create_ts(amazone_stock_train, series)\n",
    "testX, testY = create_ts(amazone_stock_test, series)\n",
    "\n",
    "\n",
    "\n"
   ]
  },
  {
   "cell_type": "code",
   "execution_count": 55,
   "metadata": {},
   "outputs": [
    {
     "name": "stdout",
     "output_type": "stream",
     "text": [
      "[[[0.0182142 ]\n",
      "  [0.02068866]\n",
      "  [0.02293363]\n",
      "  ...\n",
      "  [0.01832396]\n",
      "  [0.01742597]\n",
      "  [0.0184836 ]]\n",
      "\n",
      " [[0.02068866]\n",
      "  [0.02293363]\n",
      "  [0.01990541]\n",
      "  ...\n",
      "  [0.01742597]\n",
      "  [0.0184836 ]\n",
      "  [0.01779514]]\n",
      "\n",
      " [[0.02293363]\n",
      "  [0.01990541]\n",
      "  [0.01832396]\n",
      "  ...\n",
      "  [0.0184836 ]\n",
      "  [0.01779514]\n",
      "  [0.01412835]]\n",
      "\n",
      " ...\n",
      "\n",
      " [[0.23023926]\n",
      "  [0.23722859]\n",
      "  [0.23432012]\n",
      "  ...\n",
      "  [0.24071579]\n",
      "  [0.24039151]\n",
      "  [0.24306054]]\n",
      "\n",
      " [[0.23722859]\n",
      "  [0.23432012]\n",
      "  [0.2314665 ]\n",
      "  ...\n",
      "  [0.24039151]\n",
      "  [0.24306054]\n",
      "  [0.2466525 ]]\n",
      "\n",
      " [[0.23432012]\n",
      "  [0.2314665 ]\n",
      "  [0.24071579]\n",
      "  ...\n",
      "  [0.24306054]\n",
      "  [0.2466525 ]\n",
      "  [0.24263151]]]\n"
     ]
    }
   ],
   "source": [
    "print(trainX)\n",
    "# len(trainX)"
   ]
  },
  {
   "cell_type": "code",
   "execution_count": 42,
   "metadata": {},
   "outputs": [
    {
     "name": "stdout",
     "output_type": "stream",
     "text": [
      "1754\n"
     ]
    },
    {
     "data": {
      "text/plain": [
       "array([[0.0182142 , 0.02068866, 0.02293363, ..., 0.01832396, 0.01742597,\n",
       "        0.0184836 ],\n",
       "       [0.02068866, 0.02293363, 0.01990541, ..., 0.01742597, 0.0184836 ,\n",
       "        0.01779514],\n",
       "       [0.02293363, 0.01990541, 0.01832396, ..., 0.0184836 , 0.01779514,\n",
       "        0.01412835],\n",
       "       ...,\n",
       "       [0.23023926, 0.23722859, 0.23432012, ..., 0.24071579, 0.24039151,\n",
       "        0.24306054],\n",
       "       [0.23722859, 0.23432012, 0.2314665 , ..., 0.24039151, 0.24306054,\n",
       "        0.2466525 ],\n",
       "       [0.23432012, 0.2314665 , 0.24071579, ..., 0.24306054, 0.2466525 ,\n",
       "        0.24263151]], dtype=float32)"
      ]
     },
     "execution_count": 42,
     "metadata": {},
     "output_type": "execute_result"
    }
   ],
   "source": [
    "# reshape into lstm format = samples,steps,features\n",
    "print(trainX.shape[0])\n",
    "trainX.shape[1]\n",
    "# trainX = np.reshape(trainX.shape[0],trainX.)\n",
    "# trainX"
   ]
  },
  {
   "cell_type": "code",
   "execution_count": 45,
   "metadata": {},
   "outputs": [],
   "source": [
    "# each input of height 1 and lenth 7 ...... as we use 7 days pice to predict next days...\n",
    "# taking each row as a sample\n",
    "trainX= np.reshape(trainX,(trainX.shape[0],trainX.shape[1],1))\n",
    "testX = np.reshape(testX,(testX.shape[0],testX.shape[1],1))"
   ]
  },
  {
   "cell_type": "code",
   "execution_count": 49,
   "metadata": {},
   "outputs": [
    {
     "name": "stdout",
     "output_type": "stream",
     "text": [
      "Epoch 1/100\n",
      "1754/1754 [==============================] - 1s 507us/step - loss: 0.0058\n",
      "Epoch 2/100\n",
      "1754/1754 [==============================] - 0s 83us/step - loss: 0.0027\n",
      "Epoch 3/100\n",
      "1754/1754 [==============================] - 0s 83us/step - loss: 0.0022\n",
      "Epoch 4/100\n",
      "1754/1754 [==============================] - 0s 83us/step - loss: 0.0015\n",
      "Epoch 5/100\n",
      "1754/1754 [==============================] - 0s 84us/step - loss: 8.1524e-04\n",
      "Epoch 6/100\n",
      "1754/1754 [==============================] - 0s 83us/step - loss: 2.4689e-04\n",
      "Epoch 7/100\n",
      "1754/1754 [==============================] - 0s 86us/step - loss: 4.5065e-05\n",
      "Epoch 8/100\n",
      "1754/1754 [==============================] - 0s 85us/step - loss: 3.0469e-05\n",
      "Epoch 9/100\n",
      "1754/1754 [==============================] - 0s 87us/step - loss: 3.0392e-05\n",
      "Epoch 10/100\n",
      "1754/1754 [==============================] - 0s 86us/step - loss: 2.9560e-05\n",
      "Epoch 11/100\n",
      "1754/1754 [==============================] - 0s 84us/step - loss: 2.9376e-05\n",
      "Epoch 12/100\n",
      "1754/1754 [==============================] - 0s 84us/step - loss: 2.8966e-05\n",
      "Epoch 13/100\n",
      "1754/1754 [==============================] - 0s 86us/step - loss: 2.8210e-05\n",
      "Epoch 14/100\n",
      "1754/1754 [==============================] - 0s 87us/step - loss: 2.7912e-05\n",
      "Epoch 15/100\n",
      "1754/1754 [==============================] - 0s 84us/step - loss: 2.7648e-05\n",
      "Epoch 16/100\n",
      "1754/1754 [==============================] - 0s 83us/step - loss: 2.7453e-05\n",
      "Epoch 17/100\n",
      "1754/1754 [==============================] - 0s 86us/step - loss: 2.6896e-05\n",
      "Epoch 18/100\n",
      "1754/1754 [==============================] - 0s 87us/step - loss: 2.7410e-05\n",
      "Epoch 19/100\n",
      "1754/1754 [==============================] - 0s 87us/step - loss: 2.6906e-05\n",
      "Epoch 20/100\n",
      "1754/1754 [==============================] - 0s 88us/step - loss: 2.5913e-05\n",
      "Epoch 21/100\n",
      "1754/1754 [==============================] - 0s 87us/step - loss: 2.5653e-05\n",
      "Epoch 22/100\n",
      "1754/1754 [==============================] - 0s 84us/step - loss: 2.4506e-05\n",
      "Epoch 23/100\n",
      "1754/1754 [==============================] - 0s 85us/step - loss: 2.4665e-05\n",
      "Epoch 24/100\n",
      "1754/1754 [==============================] - 0s 82us/step - loss: 2.4330e-05\n",
      "Epoch 25/100\n",
      "1754/1754 [==============================] - 0s 83us/step - loss: 2.3835e-05\n",
      "Epoch 26/100\n",
      "1754/1754 [==============================] - 0s 89us/step - loss: 2.3331e-05\n",
      "Epoch 27/100\n",
      "1754/1754 [==============================] - 0s 85us/step - loss: 2.2944e-05\n",
      "Epoch 28/100\n",
      "1754/1754 [==============================] - 0s 89us/step - loss: 2.2663e-05\n",
      "Epoch 29/100\n",
      "1754/1754 [==============================] - 0s 91us/step - loss: 2.2961e-05\n",
      "Epoch 30/100\n",
      "1754/1754 [==============================] - 0s 86us/step - loss: 2.2618e-05\n",
      "Epoch 31/100\n",
      "1754/1754 [==============================] - 0s 86us/step - loss: 2.1549e-05\n",
      "Epoch 32/100\n",
      "1754/1754 [==============================] - 0s 86us/step - loss: 2.2839e-05\n",
      "Epoch 33/100\n",
      "1754/1754 [==============================] - 0s 85us/step - loss: 2.1887e-05\n",
      "Epoch 34/100\n",
      "1754/1754 [==============================] - 0s 85us/step - loss: 2.1566e-05\n",
      "Epoch 35/100\n",
      "1754/1754 [==============================] - 0s 86us/step - loss: 2.2014e-05\n",
      "Epoch 36/100\n",
      "1754/1754 [==============================] - 0s 87us/step - loss: 2.2063e-05\n",
      "Epoch 37/100\n",
      "1754/1754 [==============================] - 0s 86us/step - loss: 2.0784e-05\n",
      "Epoch 38/100\n",
      "1754/1754 [==============================] - 0s 87us/step - loss: 2.2861e-05\n",
      "Epoch 39/100\n",
      "1754/1754 [==============================] - 0s 86us/step - loss: 2.0802e-05\n",
      "Epoch 40/100\n",
      "1754/1754 [==============================] - 0s 87us/step - loss: 2.1018e-05\n",
      "Epoch 41/100\n",
      "1754/1754 [==============================] - 0s 86us/step - loss: 1.9876e-05\n",
      "Epoch 42/100\n",
      "1754/1754 [==============================] - 0s 88us/step - loss: 2.0294e-05\n",
      "Epoch 43/100\n",
      "1754/1754 [==============================] - 0s 87us/step - loss: 2.0160e-05\n",
      "Epoch 44/100\n",
      "1754/1754 [==============================] - 0s 86us/step - loss: 2.0878e-05\n",
      "Epoch 45/100\n",
      "1754/1754 [==============================] - 0s 89us/step - loss: 2.0082e-05\n",
      "Epoch 46/100\n",
      "1754/1754 [==============================] - 0s 85us/step - loss: 1.9905e-05\n",
      "Epoch 47/100\n",
      "1754/1754 [==============================] - 0s 85us/step - loss: 2.0127e-05\n",
      "Epoch 48/100\n",
      "1754/1754 [==============================] - 0s 86us/step - loss: 1.9245e-05\n",
      "Epoch 49/100\n",
      "1754/1754 [==============================] - 0s 83us/step - loss: 2.0070e-05\n",
      "Epoch 50/100\n",
      "1754/1754 [==============================] - 0s 86us/step - loss: 1.9481e-05\n",
      "Epoch 51/100\n",
      "1754/1754 [==============================] - 0s 85us/step - loss: 2.0685e-05\n",
      "Epoch 52/100\n",
      "1754/1754 [==============================] - 0s 87us/step - loss: 1.9191e-05\n",
      "Epoch 53/100\n",
      "1754/1754 [==============================] - 0s 85us/step - loss: 1.9916e-05\n",
      "Epoch 54/100\n",
      "1754/1754 [==============================] - 0s 85us/step - loss: 1.9011e-05\n",
      "Epoch 55/100\n",
      "1754/1754 [==============================] - 0s 87us/step - loss: 1.9811e-05\n",
      "Epoch 56/100\n",
      "1754/1754 [==============================] - 0s 85us/step - loss: 1.9023e-05\n",
      "Epoch 57/100\n",
      "1754/1754 [==============================] - 0s 85us/step - loss: 1.8827e-05\n",
      "Epoch 58/100\n",
      "1754/1754 [==============================] - 0s 83us/step - loss: 1.8899e-05\n",
      "Epoch 59/100\n",
      "1754/1754 [==============================] - 0s 86us/step - loss: 2.0313e-05\n",
      "Epoch 60/100\n",
      "1754/1754 [==============================] - 0s 85us/step - loss: 1.8811e-05\n",
      "Epoch 61/100\n",
      "1754/1754 [==============================] - 0s 85us/step - loss: 1.9781e-05\n",
      "Epoch 62/100\n",
      "1754/1754 [==============================] - 0s 85us/step - loss: 1.9480e-05\n",
      "Epoch 63/100\n",
      "1754/1754 [==============================] - 0s 85us/step - loss: 1.8029e-05\n",
      "Epoch 64/100\n",
      "1754/1754 [==============================] - 0s 85us/step - loss: 1.9770e-05\n",
      "Epoch 65/100\n",
      "1754/1754 [==============================] - 0s 81us/step - loss: 1.8316e-05\n",
      "Epoch 66/100\n",
      "1754/1754 [==============================] - 0s 88us/step - loss: 1.8087e-05\n",
      "Epoch 67/100\n",
      "1754/1754 [==============================] - 0s 85us/step - loss: 1.8345e-05\n",
      "Epoch 68/100\n",
      "1754/1754 [==============================] - 0s 86us/step - loss: 1.9190e-05\n",
      "Epoch 69/100\n",
      "1754/1754 [==============================] - 0s 84us/step - loss: 1.9479e-05\n",
      "Epoch 70/100\n",
      "1754/1754 [==============================] - 0s 84us/step - loss: 1.8740e-05\n",
      "Epoch 71/100\n",
      "1754/1754 [==============================] - 0s 86us/step - loss: 1.7640e-05\n",
      "Epoch 72/100\n",
      "1754/1754 [==============================] - 0s 86us/step - loss: 1.8254e-05\n",
      "Epoch 73/100\n",
      "1754/1754 [==============================] - 0s 88us/step - loss: 1.8184e-05\n",
      "Epoch 74/100\n",
      "1754/1754 [==============================] - 0s 82us/step - loss: 1.8010e-05\n",
      "Epoch 75/100\n",
      "1754/1754 [==============================] - 0s 86us/step - loss: 1.9297e-05\n",
      "Epoch 76/100\n",
      "1754/1754 [==============================] - 0s 81us/step - loss: 1.8048e-05\n",
      "Epoch 77/100\n",
      "1754/1754 [==============================] - 0s 85us/step - loss: 1.7640e-05\n",
      "Epoch 78/100\n",
      "1754/1754 [==============================] - 0s 84us/step - loss: 1.8782e-05\n",
      "Epoch 79/100\n",
      "1754/1754 [==============================] - 0s 85us/step - loss: 2.3010e-05\n",
      "Epoch 80/100\n",
      "1754/1754 [==============================] - 0s 85us/step - loss: 1.7418e-05\n",
      "Epoch 81/100\n",
      "1754/1754 [==============================] - 0s 87us/step - loss: 1.8037e-05\n",
      "Epoch 82/100\n",
      "1754/1754 [==============================] - 0s 86us/step - loss: 1.8370e-05\n",
      "Epoch 83/100\n",
      "1754/1754 [==============================] - 0s 86us/step - loss: 1.7847e-05\n",
      "Epoch 84/100\n",
      "1754/1754 [==============================] - 0s 84us/step - loss: 1.7486e-05\n",
      "Epoch 85/100\n",
      "1754/1754 [==============================] - 0s 85us/step - loss: 1.8656e-05\n",
      "Epoch 86/100\n",
      "1754/1754 [==============================] - 0s 85us/step - loss: 1.7706e-05\n",
      "Epoch 87/100\n",
      "1754/1754 [==============================] - 0s 82us/step - loss: 1.7621e-05\n",
      "Epoch 88/100\n",
      "1754/1754 [==============================] - 0s 86us/step - loss: 1.7507e-05\n",
      "Epoch 89/100\n",
      "1754/1754 [==============================] - 0s 87us/step - loss: 1.7444e-05\n",
      "Epoch 90/100\n",
      "1754/1754 [==============================] - 0s 86us/step - loss: 1.8173e-05\n",
      "Epoch 91/100\n",
      "1754/1754 [==============================] - 0s 85us/step - loss: 1.7703e-05\n",
      "Epoch 92/100\n"
     ]
    },
    {
     "name": "stdout",
     "output_type": "stream",
     "text": [
      "1754/1754 [==============================] - 0s 83us/step - loss: 1.7687e-05\n",
      "Epoch 93/100\n",
      "1754/1754 [==============================] - 0s 82us/step - loss: 1.7609e-05\n",
      "Epoch 94/100\n",
      "1754/1754 [==============================] - 0s 85us/step - loss: 1.7136e-05\n",
      "Epoch 95/100\n",
      "1754/1754 [==============================] - 0s 83us/step - loss: 1.7237e-05\n",
      "Epoch 96/100\n",
      "1754/1754 [==============================] - 0s 84us/step - loss: 1.7119e-05\n",
      "Epoch 97/100\n",
      "1754/1754 [==============================] - 0s 85us/step - loss: 1.6936e-05\n",
      "Epoch 98/100\n",
      "1754/1754 [==============================] - 0s 98us/step - loss: 1.7888e-05\n",
      "Epoch 99/100\n",
      "1754/1754 [==============================] - 0s 84us/step - loss: 1.7073e-05\n",
      "Epoch 100/100\n",
      "1754/1754 [==============================] - 0s 81us/step - loss: 1.7038e-05\n"
     ]
    },
    {
     "data": {
      "text/plain": [
       "<keras.callbacks.History at 0x1d28a52da0>"
      ]
     },
     "execution_count": 49,
     "metadata": {},
     "output_type": "execute_result"
    }
   ],
   "source": [
    "model= Sequential()\n",
    "model.add(LSTM(4,input_shape = (series,1)))\n",
    "model.add(Dense(1))\n",
    "model.compile(loss='mse',optimizer = 'adam')\n",
    "#fit the model\n",
    "\n",
    "\n",
    "# The batch size defines the number of samples that will be propagated through the network.\n",
    "\n",
    "# For instance, let's say you have 1050 training samples and you want to set up a batch_size equal to 100.\n",
    "# The algorithm takes the first 100 samples (from 1st to 100th) from the training dataset and trains the network.\n",
    "# Next it takes the second 100 samples (from 101st to 200th) and trains the network again. \n",
    "# We can keep doing this procedure until we have propagated through all samples of the network. \n",
    "# A problem usually happens with the last set of samples. \n",
    "# In our example we've used 1050 which is not divisible by 100 without remainder\n",
    "model.fit(trainX, trainY, epochs=100, batch_size=32)"
   ]
  },
  {
   "cell_type": "code",
   "execution_count": 50,
   "metadata": {},
   "outputs": [],
   "source": [
    "# Predictions\n",
    "\n",
    "\n",
    "trainprediction = model.predict(trainX)\n",
    "testprediction = model.predict(testX)"
   ]
  },
  {
   "cell_type": "code",
   "execution_count": 52,
   "metadata": {},
   "outputs": [
    {
     "data": {
      "text/plain": [
       "1754"
      ]
     },
     "execution_count": 52,
     "metadata": {},
     "output_type": "execute_result"
    }
   ],
   "source": [
    "len(trainprediction)"
   ]
  },
  {
   "cell_type": "code",
   "execution_count": 56,
   "metadata": {},
   "outputs": [],
   "source": [
    "trainprediction = scaler.inverse_transform(trainprediction)"
   ]
  },
  {
   "cell_type": "code",
   "execution_count": 57,
   "metadata": {},
   "outputs": [],
   "source": [
    "testprediction =scaler.inverse_transform(testprediction)"
   ]
  },
  {
   "cell_type": "code",
   "execution_count": 58,
   "metadata": {},
   "outputs": [
    {
     "data": {
      "text/plain": [
       "array([[ 75.774185],\n",
       "       [ 75.32422 ],\n",
       "       [ 73.262146],\n",
       "       ...,\n",
       "       [518.0821  ],\n",
       "       [522.89404 ],\n",
       "       [524.758   ]], dtype=float32)"
      ]
     },
     "execution_count": 58,
     "metadata": {},
     "output_type": "execute_result"
    }
   ],
   "source": [
    "trainprediction"
   ]
  },
  {
   "cell_type": "code",
   "execution_count": 67,
   "metadata": {},
   "outputs": [],
   "source": [
    "trainY = scaler.inverse_transform([trainY])\n"
   ]
  },
  {
   "cell_type": "code",
   "execution_count": 68,
   "metadata": {},
   "outputs": [],
   "source": [
    "testY = scaler.inverse_transform([testY])"
   ]
  },
  {
   "cell_type": "code",
   "execution_count": 69,
   "metadata": {},
   "outputs": [
    {
     "data": {
      "text/plain": [
       "array([[ 70.70000056,  63.34999655,  72.76000381, ..., 529.44000702,\n",
       "        521.38001497, 522.36999576]])"
      ]
     },
     "execution_count": 69,
     "metadata": {},
     "output_type": "execute_result"
    }
   ],
   "source": [
    "trainY"
   ]
  },
  {
   "cell_type": "code",
   "execution_count": 71,
   "metadata": {},
   "outputs": [
    {
     "data": {
      "text/plain": [
       "1"
      ]
     },
     "execution_count": 71,
     "metadata": {},
     "output_type": "execute_result"
    }
   ],
   "source": [
    "len(testY)"
   ]
  },
  {
   "cell_type": "code",
   "execution_count": null,
   "metadata": {},
   "outputs": [],
   "source": [
    "trainscore = math.sqrt(mean_squared_error(trainY[0],trainprediction[:,0]))\n",
    "testscore = math.sqrt(mean_squared_error(testY[0],testprediction[:,0]))"
   ]
  }
 ],
 "metadata": {
  "kernelspec": {
   "display_name": "Python 3",
   "language": "python",
   "name": "python3"
  },
  "language_info": {
   "codemirror_mode": {
    "name": "ipython",
    "version": 3
   },
   "file_extension": ".py",
   "mimetype": "text/x-python",
   "name": "python",
   "nbconvert_exporter": "python",
   "pygments_lexer": "ipython3",
   "version": "3.6.5"
  }
 },
 "nbformat": 4,
 "nbformat_minor": 2
}
